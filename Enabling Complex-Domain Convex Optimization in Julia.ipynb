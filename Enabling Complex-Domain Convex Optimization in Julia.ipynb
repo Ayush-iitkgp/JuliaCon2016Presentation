{
 "cells": [
  {
   "cell_type": "markdown",
   "metadata": {
    "slideshow": {
     "slide_type": "slide"
    }
   },
   "source": [
    "# Enabling Complex-Domain Convex Optimization in Julia\n",
    "\n",
    "## Ayush Pandey | JuliaCon 2016"
   ]
  },
  {
   "cell_type": "markdown",
   "metadata": {
    "slideshow": {
     "slide_type": "subslide"
    }
   },
   "source": [
    "## About Me \n",
    "\n",
    "#### Integrated Master of Science student at IIT Kharagpur pursuing Mathematics and Computing Sciences\n",
    "\n",
    "#### GitHub - [https://github.com/ayush-iitkgp](https://github.com/ayush-iitkgp)\n",
    "\n",
    "#### Google Summer of Code - 2016 student under mentorship of Madeleine Udell and Dvijotham Krishnamurthy\n",
    "\n",
    "#### Blogging my GSoC'16 experience at [http://ayush-iitkgp.rhcloud.com](http://ayush-iitkgp.rhcloud.com/) \n",
    "\n",
    "<!--- ## CVX.jl team\n",
    "\n",
    "* [CVX.jl](https://github.com/cvxgrp/CVX.jl): Madeleine Udell, Karanveer Mohan, David Zeng, Jenny Hong\n",
    "<!---* [ParallelSparseMatMul.jl](https://github.com/madeleineudell/ParallelSparseMatMul.jl): Madeleine Udell\n",
    "--->"
   ]
  },
  {
   "cell_type": "markdown",
   "metadata": {
    "slideshow": {
     "slide_type": "slide"
    }
   },
   "source": [
    "# What is Convex Optimization?"
   ]
  },
  {
   "cell_type": "markdown",
   "metadata": {
    "slideshow": {
     "slide_type": "subslide"
    }
   },
   "source": [
    "### What is Convex function? \n",
    "$f$ is **convex** if for all $\\theta \\in [0,1]$\n",
    "$$\n",
    "f(\\theta x + (1-\\theta)y ) \\leq \\theta f(x) + (1-\\theta) f(y)\n",
    "$$\n",
    "\n",
    "equivalently, \n",
    "\n",
    "* $f$ has nonnegative (upward) curvature\n",
    "* $f'' \\geq 0$ (if $f$ is differentiable)\n",
    "* Geometrically, the line joining any 2 points on $f$ always lies above the graph of $f$\n",
    "\n",
    "<!---* sublevel sets $\\{x: f(x) \\leq \\alpha\\}$ are convex sets --->\n",
    "\n",
    "![chords](chord.png)\n",
    "\n",
    "**Note - A function is called affine iff it is both convex and concave.**"
   ]
  },
  {
   "cell_type": "markdown",
   "metadata": {
    "slideshow": {
     "slide_type": "subslide"
    }
   },
   "source": [
    "## What is Convex optimization ?\n",
    "\n",
    "### Functional Form\n",
    "\n",
    "$$\n",
    "\\begin{array}{ll} \n",
    "\\mbox{minimize}  & f_0(x) \\\\\n",
    "\\mbox{subject to} & f_i(x) \\leq 0, \\quad i=1, \\ldots, m_1\\\\\n",
    "& h_j(x) = 0, \\quad j=1, \\ldots, m_2\\\\\n",
    "\\end{array}\n",
    "$$\n",
    "\n",
    "* variable $x\\in \\mathbf{R}^n$\n",
    "* $f_i$ are all convex\n",
    "* $h_j$ are all affine\n",
    "\n",
    "**Note 1- If $x\\in \\mathbf{R}^n$ then we refer the problem as real-domain convex optimization and if $x\\in \\mathbf{C}^n$ then we refer it as complex-domain optimization problem. Also if the coefficients of the variablex are complex numbers then it is complex-doamin optimization problem.** \n",
    "\n",
    "**Note 2- It is important to note that if $x\\in \\mathbf{C}^n$ then we no longer have inequality constraint.**"
   ]
  },
  {
   "cell_type": "markdown",
   "metadata": {
    "slideshow": {
     "slide_type": "subslide"
    }
   },
   "source": [
    "## Why do we need another package if we have available solvers like SCS, Mosek?\n",
    "\n",
    "### Convex optimization (conic form)\n",
    "\n",
    "$$\n",
    "\\begin{array}{ll} \n",
    "\\mbox{minimize}  & c^T x \\\\\n",
    "    \\mbox{subject to} & Ax = b\\\\\n",
    "    & x \\in \\mathcal K\\\\\n",
    "\\end{array}\n",
    "$$\n",
    "\n",
    "where $\\mathcal K$ is a **convex cone**\n",
    "\n",
    "$$ x \\in \\mathcal K \\iff rx \\in \\mathcal K, \\quad \\forall r>0$$\n",
    "\n",
    "examples:\n",
    "\n",
    "* positive orthant \n",
    "\n",
    "$$\\mathcal K_+ = \\{x: x\\geq 0\\}$$\n",
    "    \n",
    "* second order cone \n",
    "\n",
    "$$\\mathcal K_{\\mathrm{SOC}} = \\{(x,t): \\|x\\|_2 \\leq t\\}$$\n",
    "    \n",
    "* semidefinite cone \n",
    "\n",
    "$$\\mathcal K_{\\mathrm{SDP}} = \\{X: X = X^T,~ v^T X v \\geq 0,~ \\forall v \\in \\mathbf{R}^n\\}$$\n",
    "\n",
    "**Does this slide look complicated? It turns out that the above solvers only understand the conic form which is hard for us to write and this is the reason why we need a package for convex optimization where we can express our problem in functional form and let the package manage the difficult part of converting the problem to conic form**\n",
    "    "
   ]
  },
  {
   "cell_type": "markdown",
   "metadata": {
    "slideshow": {
     "slide_type": "slide"
    }
   },
   "source": [
    "# Quick Tutorial"
   ]
  },
  {
   "cell_type": "code",
   "execution_count": 1,
   "metadata": {
    "collapsed": false,
    "slideshow": {
     "slide_type": "fragment"
    }
   },
   "outputs": [
    {
     "name": "stderr",
     "output_type": "stream",
     "text": [
      "WARNING: Method definition ctranspose(Convex.Constant) in module Convex at /home/hduser/.julia/v0.5/Convex/src/atoms/affine/transpose.jl:73 overwritten at /home/hduser/.julia/v0.5/Convex/src/atoms/affine/transpose.jl:74.\n",
      "WARNING: Method definition norm(Convex.AbstractExpr, Symbol) in module Convex at /home/hduser/.julia/v0.5/Convex/src/atoms/norm.jl:45 overwritten at deprecated.jl:49.\n"
     ]
    }
   ],
   "source": [
    "using Convex"
   ]
  },
  {
   "cell_type": "markdown",
   "metadata": {
    "slideshow": {
     "slide_type": "subslide"
    }
   },
   "source": [
    "## Variables"
   ]
  },
  {
   "cell_type": "code",
   "execution_count": 2,
   "metadata": {
    "collapsed": false,
    "slideshow": {
     "slide_type": "-"
    }
   },
   "outputs": [
    {
     "data": {
      "text/plain": [
       "Variable of\n",
       "size: (4, 2)\n",
       "sign: Convex.NoSign()\n",
       "vexity: Convex.AffineVexity()"
      ]
     },
     "execution_count": 2,
     "metadata": {},
     "output_type": "execute_result"
    }
   ],
   "source": [
    "# Scalar variable\n",
    "x = Variable()\n",
    "# (Column) vector variable\n",
    "y = Variable(4)\n",
    "# Matrix variable\n",
    "z = Variable(4, 2)"
   ]
  },
  {
   "cell_type": "markdown",
   "metadata": {
    "slideshow": {
     "slide_type": "subslide"
    }
   },
   "source": [
    "# Expressions\n",
    "\n",
    "* We can operate on variables to form *convex expressions*"
   ]
  },
  {
   "cell_type": "code",
   "execution_count": 3,
   "metadata": {
    "collapsed": false,
    "slideshow": {
     "slide_type": "fragment"
    }
   },
   "outputs": [
    {
     "data": {
      "text/plain": [
       "AbstractExpr with\n",
       "head: geomean\n",
       "size: (1, 1)\n",
       "sign: Convex.Positive()\n",
       "vexity: Convex.ConcaveVexity()\n"
      ]
     },
     "execution_count": 3,
     "metadata": {},
     "output_type": "execute_result"
    }
   ],
   "source": [
    "# indexing, multiplication, addition\n",
    "e1 = y[1] + 2*x\n",
    "\n",
    "# expressions can be affine, convex, or concave\n",
    "e3 = sqrt(x)"
   ]
  },
  {
   "cell_type": "markdown",
   "metadata": {
    "slideshow": {
     "slide_type": "subslide"
    }
   },
   "source": [
    "# Constraints"
   ]
  },
  {
   "cell_type": "code",
   "execution_count": 4,
   "metadata": {
    "collapsed": false,
    "slideshow": {
     "slide_type": "fragment"
    }
   },
   "outputs": [
    {
     "data": {
      "text/plain": [
       "Constraint:\n",
       "== constraint\n",
       "lhs: AbstractExpr with\n",
       "head: *\n",
       "size: (3, 1)\n",
       "sign: Convex.NoSign()\n",
       "vexity: Convex.AffineVexity()\n",
       "\n",
       "rhs: [0.9396838440256501,-1.3160206804115133,0.5104196149981136]\n",
       "vexity: Convex.AffineVexity()"
      ]
     },
     "execution_count": 4,
     "metadata": {},
     "output_type": "execute_result"
    }
   ],
   "source": [
    "# affine equality constraint\n",
    "A = randn(3,4); b = randn(3)\n",
    "constraint1 = A*y == b"
   ]
  },
  {
   "cell_type": "code",
   "execution_count": 5,
   "metadata": {
    "collapsed": false,
    "slideshow": {
     "slide_type": "fragment"
    }
   },
   "outputs": [
    {
     "data": {
      "text/plain": [
       "Constraint:\n",
       "<= constraint\n",
       "lhs: AbstractExpr with\n",
       "head: norm2\n",
       "size: (1, 1)\n",
       "sign: Convex.Positive()\n",
       "vexity: Convex.ConvexVexity()\n",
       "\n",
       "rhs: 2\n",
       "vexity: Convex.ConvexVexity()"
      ]
     },
     "execution_count": 5,
     "metadata": {},
     "output_type": "execute_result"
    }
   ],
   "source": [
    "# convex inequality constraint\n",
    "constraint2 = norm(y,2) <= 2"
   ]
  },
  {
   "cell_type": "markdown",
   "metadata": {
    "slideshow": {
     "slide_type": "subslide"
    }
   },
   "source": [
    "# Problems\n",
    "\n",
    "* Now let's combine the above 3 steps to define our problem"
   ]
  },
  {
   "cell_type": "code",
   "execution_count": 6,
   "metadata": {
    "collapsed": false,
    "slideshow": {
     "slide_type": "fragment"
    }
   },
   "outputs": [
    {
     "data": {
      "text/plain": [
       "Problem:\n",
       "minimize AbstractExpr with\n",
       "head: +\n",
       "size: (1, 1)\n",
       "sign: Convex.NoSign()\n",
       "vexity: Convex.ConvexVexity()\n",
       "\n",
       "subject to\n",
       "Constraint:\n",
       "== constraint\n",
       "lhs: AbstractExpr with\n",
       "head: *\n",
       "size: (3, 1)\n",
       "sign: Convex.NoSign()\n",
       "vexity: Convex.AffineVexity()\n",
       "\n",
       "rhs: [0.9396838440256501,-1.3160206804115133,0.5104196149981136]\n",
       "vexity: Convex.AffineVexity()\n",
       "\t\tConstraint:\n",
       "<= constraint\n",
       "lhs: AbstractExpr with\n",
       "head: norm2\n",
       "size: (1, 1)\n",
       "sign: Convex.Positive()\n",
       "vexity: Convex.ConvexVexity()\n",
       "\n",
       "rhs: 2\n",
       "vexity: Convex.ConvexVexity()\n",
       "current status: not yet solved"
      ]
     },
     "execution_count": 6,
     "metadata": {},
     "output_type": "execute_result"
    }
   ],
   "source": [
    "objective = 2*x + 1 - sqrt(sum(y))\n",
    "p = minimize(objective, constraint1, constraint2)"
   ]
  },
  {
   "cell_type": "code",
   "execution_count": 7,
   "metadata": {
    "collapsed": false,
    "scrolled": true,
    "slideshow": {
     "slide_type": "fragment"
    }
   },
   "outputs": [
    {
     "name": "stdout",
     "output_type": "stream",
     "text": [
      "----------------------------------------------------------------------------\n",
      "\tSCS v1.1.8 - Splitting Conic Solver\n",
      "\t(c) Brendan O'Donoghue, Stanford University, 2012-2015\n",
      "----------------------------------------------------------------------------\n",
      "Lin-sys: sparse-direct, nnz in A = 34\n",
      "eps = 1.00e-04, alpha = 1.80, max_iters = 20000, normalize = 1, scale = 5.00\n",
      "Variables n = 8, constraints m = 15\n",
      "Cones:\tprimal zero / dual free vars: 4\n",
      "\tlinear vars: 3\n",
      "\tsoc vars: 8, soc blks: 2\n",
      "Setup time: 1.08e-04s\n",
      "----------------------------------------------------------------------------\n",
      " Iter | pri res | dua res | rel gap | pri obj | dua obj | kap/tau | time (s)\n",
      "----------------------------------------------------------------------------\n",
      "     0|      inf       inf      -nan      -inf       inf       inf  2.74e-05 \n",
      "    20|      inf       inf      -nan      -inf      -inf       inf  5.82e-05 \n",
      "----------------------------------------------------------------------------\n",
      "Status: Unbounded\n",
      "Timing: Solve time: 6.46e-05s\n",
      "\tLin-sys: nnz in L factor: 69, avg solve time: 6.71e-07s\n",
      "\tCones: avg projection time: 2.12e-07s\n",
      "----------------------------------------------------------------------------\n",
      "Certificate of dual infeasibility:\n",
      "dist(s, K) = 8.9589e-21\n",
      "|Ax + s|_2 * |c|_2 = 2.5774e-06\n",
      "c'x = -1.0000\n",
      "============================================================================\n"
     ]
    },
    {
     "name": "stderr",
     "output_type": "stream",
     "text": [
      "WARNING: Problem status Unbounded; solution may be inaccurate.\n"
     ]
    },
    {
     "data": {
      "text/plain": [
       "Problem:\n",
       "minimize AbstractExpr with\n",
       "head: +\n",
       "size: (1, 1)\n",
       "sign: Convex.NoSign()\n",
       "vexity: Convex.ConvexVexity()\n",
       "\n",
       "subject to\n",
       "Constraint:\n",
       "== constraint\n",
       "lhs: AbstractExpr with\n",
       "head: *\n",
       "size: (3, 1)\n",
       "sign: Convex.NoSign()\n",
       "vexity: Convex.AffineVexity()\n",
       "\n",
       "rhs: [0.9396838440256501,-1.3160206804115133,0.5104196149981136]\n",
       "vexity: Convex.AffineVexity()\n",
       "\t\tConstraint:\n",
       "<= constraint\n",
       "lhs: AbstractExpr with\n",
       "head: norm2\n",
       "size: (1, 1)\n",
       "sign: Convex.Positive()\n",
       "vexity: Convex.ConvexVexity()\n",
       "\n",
       "rhs: 2\n",
       "vexity: Convex.ConvexVexity()\n",
       "current status: Unbounded"
      ]
     },
     "execution_count": 7,
     "metadata": {},
     "output_type": "execute_result"
    }
   ],
   "source": [
    "# solve the problem\n",
    "solve!(p)\n",
    "p"
   ]
  },
  {
   "cell_type": "code",
   "execution_count": 8,
   "metadata": {
    "collapsed": false,
    "slideshow": {
     "slide_type": "fragment"
    }
   },
   "outputs": [
    {
     "data": {
      "text/plain": [
       "-0.9999999999999999"
      ]
     },
     "execution_count": 8,
     "metadata": {},
     "output_type": "execute_result"
    }
   ],
   "source": [
    "p.optval"
   ]
  },
  {
   "cell_type": "code",
   "execution_count": 10,
   "metadata": {
    "collapsed": false,
    "slideshow": {
     "slide_type": "fragment"
    }
   },
   "outputs": [
    {
     "data": {
      "text/plain": [
       "-0.4999994481163632"
      ]
     },
     "execution_count": 10,
     "metadata": {},
     "output_type": "execute_result"
    }
   ],
   "source": [
    "x.value"
   ]
  },
  {
   "cell_type": "markdown",
   "metadata": {
    "slideshow": {
     "slide_type": "slide"
    }
   },
   "source": [
    "# Future work\n",
    "\n",
    "* integration with [MathProgBase](https://github.com/JuliaOpt/MathProgBase.jl) interfaces\n",
    "    * standard form conic programs\n",
    "    * simplex LP solvers\n",
    "* new backend solvers\n",
    "    * larger scale problems (100,000+ variables)\n",
    "    * SDP and exponential cone constraints\n",
    "    * first target: [SCS](https://github.com/cvxgrp/scs)\n",
    "* new atoms, such as\n",
    "    * `log`\n",
    "    * `exp`\n",
    "    * `logdet`\n",
    "    * `kl_div`\n",
    "    * your PR"
   ]
  },
  {
   "cell_type": "markdown",
   "metadata": {
    "slideshow": {
     "slide_type": "subslide"
    }
   },
   "source": [
    "## How you can contribute\n",
    "\n",
    "* new examples\n",
    "* new solvers\n",
    "    * in MathProgBase\n",
    "    * parse AST to your own favorite standard form\n",
    "* new atoms\n",
    "    * easy way: in terms of previous atoms\n",
    "\n",
    "            function sum_squares(x::AbstractCvxExpr)\n",
    "              return square(norm_2(x))\n",
    "            end\n",
    "\n",
    "    * hard way: define canonical form\n",
    "\n",
    "            function norm_2(x::AbstractCvxExpr)\n",
    "              this = CvxExpr(:norm_2, [x], vexity, :pos, (1, 1))\n",
    "              cone_size = get_vectorized_size(x) + 1\n",
    "\n",
    "              coeffs1 = spzeros(cone_size, 1)\n",
    "              coeffs1[1] = -1\n",
    "              coeffs2 = [spzeros(1, get_vectorized_size(x)); -speye(get_vectorized_size(x))]\n",
    "              coeffs =  [coeffs1, coeffs2]\n",
    "              vars = [this.uid, x.uid]\n",
    "              constant = zeros(cone_size, 1)\n",
    "\n",
    "              canon_constr_array = [CanonicalConstr(coeffs, vars, constant)]\n",
    "              append!(canon_constr_array, x.canon_form())\n",
    "              this.canon_form = ()->canon_constr_array\n",
    "              this.evaluate = ()->Base.norm(x.evaluate(), 2)\n",
    "              return this\n",
    "            end"
   ]
  }
 ],
 "metadata": {
  "celltoolbar": "Slideshow",
  "kernelspec": {
   "display_name": "Julia 0.5.0-dev",
   "language": "julia",
   "name": "julia-0.5"
  },
  "language_info": {
   "file_extension": ".jl",
   "mimetype": "application/julia",
   "name": "julia",
   "version": "0.5.0"
  }
 },
 "nbformat": 4,
 "nbformat_minor": 0
}
